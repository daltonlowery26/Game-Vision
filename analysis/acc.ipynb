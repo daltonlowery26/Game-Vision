{
 "cells": [
  {
   "cell_type": "code",
   "execution_count": 21,
   "id": "5535f15a",
   "metadata": {},
   "outputs": [],
   "source": [
    "import pandas as pd\n",
    "import os\n",
    "os.chdir('C:/Users/dalto/OneDrive/Pictures/Documents/Projects/Coding Projects/Game Vison/')"
   ]
  },
  {
   "cell_type": "code",
   "execution_count": 22,
   "id": "9557c332",
   "metadata": {},
   "outputs": [],
   "source": [
    "key = pd.read_csv('timing/elite_info/elite_pitchinfo.csv')\n",
    "key['new_name'] = key['new_name'].apply(os.path.basename)"
   ]
  },
  {
   "cell_type": "code",
   "execution_count": 23,
   "id": "508b26c7",
   "metadata": {},
   "outputs": [],
   "source": [
    "def check_accuracy(row):\n",
    "    pitch_type_mapping = {\n",
    "        'Fastball': ['FF'],\n",
    "        'Breaking': ['SL', 'CB'],\n",
    "        'Offspeed': ['CH']\n",
    "    }\n",
    "    \n",
    "    predicted_abbrs = pitch_type_mapping.get(row['pitch_type'])\n",
    "    if predicted_abbrs:\n",
    "        return any(abbr in row['pitch_info'] for abbr in predicted_abbrs) \n",
    "    \n",
    "    return False"
   ]
  },
  {
   "cell_type": "code",
   "execution_count": 24,
   "id": "8af4ebed",
   "metadata": {},
   "outputs": [],
   "source": [
    "def s_check_accuracy(row):\n",
    "\n",
    "    predicted_abbr = row['result']\n",
    "    \n",
    "    if predicted_abbr:\n",
    "        return predicted_abbr in row['pitch_info']\n",
    "        \n",
    "    return False"
   ]
  },
  {
   "cell_type": "code",
   "execution_count": 25,
   "id": "38396127",
   "metadata": {},
   "outputs": [],
   "source": [
    "test1 = pd.read_csv('logs/2025-07-29_16-46-25_session_results.csv')\n",
    "test1['new_name'] = test1['video'].apply(os.path.basename)"
   ]
  },
  {
   "cell_type": "code",
   "execution_count": 26,
   "id": "d793b930",
   "metadata": {},
   "outputs": [
    {
     "name": "stdout",
     "output_type": "stream",
     "text": [
      "Accuracy for names containing '165': 81.82%\n",
      "Accuracy for names containing '173': 81.82%\n",
      "Accuracy for names containing '190': 45.45%\n"
     ]
    }
   ],
   "source": [
    "test1 = pd.merge(test1, key, on='new_name', how='left')\n",
    "test1 = test1[['new_name', 'original_name','pitch_type', 'result', 'pitch_info']]\n",
    "\n",
    "test1['correct_prediction'] = test1.apply(s_check_accuracy, axis=1)\n",
    "\n",
    "test1_165 = test1[test1['original_name'].str.contains('165')]\n",
    "accuracy_165 = test1_165['correct_prediction'].mean() * 100\n",
    "\n",
    "test1_173 = test1[test1['original_name'].str.contains('173.373806')]\n",
    "accuracy_173 = test1_173['correct_prediction'].mean() * 100\n",
    "\n",
    "test1_181 = test1[test1['original_name'].str.contains('190.12142')]\n",
    "accuracy_181 = test1_181['correct_prediction'].mean() * 100\n",
    "\n",
    "# Print the results\n",
    "print(f\"Accuracy for names containing '165': {accuracy_165:.2f}%\")\n",
    "print(f\"Accuracy for names containing '173': {accuracy_173:.2f}%\")\n",
    "print(f\"Accuracy for names containing '190': {accuracy_181:.2f}%\")"
   ]
  }
 ],
 "metadata": {
  "kernelspec": {
   "display_name": "base",
   "language": "python",
   "name": "python3"
  },
  "language_info": {
   "codemirror_mode": {
    "name": "ipython",
    "version": 3
   },
   "file_extension": ".py",
   "mimetype": "text/x-python",
   "name": "python",
   "nbconvert_exporter": "python",
   "pygments_lexer": "ipython3",
   "version": "3.12.7"
  }
 },
 "nbformat": 4,
 "nbformat_minor": 5
}
