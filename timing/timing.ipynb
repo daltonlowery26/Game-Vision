{
 "cells": [
  {
   "cell_type": "code",
   "execution_count": 1,
   "id": "cb27ecd0",
   "metadata": {},
   "outputs": [],
   "source": [
    "import pandas as pd\n",
    "import os\n",
    "import shutil\n",
    "import re"
   ]
  },
  {
   "cell_type": "code",
   "execution_count": 2,
   "id": "dc1954f4",
   "metadata": {},
   "outputs": [],
   "source": [
    "timings = pd.read_csv('C:/Users/dalto/OneDrive/Pictures/Documents/Projects/Coding Projects/Game Vison/timing/elite_video_timing.csv')"
   ]
  },
  {
   "cell_type": "code",
   "execution_count": 3,
   "id": "8c5f0534",
   "metadata": {},
   "outputs": [],
   "source": [
    "# Walk through the directory and collect all video file paths\n",
    "video_files = []\n",
    "for root, dirs, files in os.walk('C:/Users/dalto/OneDrive/Pictures/Documents/Projects/Coding Projects/Game Vison/video/elite_video/'):\n",
    "    for file in files:\n",
    "        video_files.append(os.path.join(root, file))\n",
    "timings['name'] = video_files"
   ]
  },
  {
   "cell_type": "code",
   "execution_count": 4,
   "id": "b4362b6c",
   "metadata": {},
   "outputs": [],
   "source": [
    "# Prepare new names and rename files\n",
    "new_names = []\n",
    "for idx, original_path in enumerate(video_files):\n",
    "    ext = os.path.splitext(original_path)[1]\n",
    "    new_name = f\"{idx}{ext}\"\n",
    "    new_path = os.path.join(os.path.dirname(original_path), new_name)\n",
    "    shutil.move(original_path, new_path)\n",
    "    new_names.append(new_path)\n",
    "\n",
    "# Save mapping to CSV\n",
    "df = pd.DataFrame({'original_name': video_files, 'new_name': new_names})\n",
    "df.to_csv('names1.csv', index=False)"
   ]
  },
  {
   "cell_type": "code",
   "execution_count": 5,
   "id": "78fafe83",
   "metadata": {},
   "outputs": [
    {
     "data": {
      "application/vnd.microsoft.datawrangler.viewer.v0+json": {
       "columns": [
        {
         "name": "index",
         "rawType": "int64",
         "type": "integer"
        },
        {
         "name": "original_name",
         "rawType": "object",
         "type": "string"
        },
        {
         "name": "new_name",
         "rawType": "object",
         "type": "string"
        },
        {
         "name": "pitch_info",
         "rawType": "object",
         "type": "string"
        }
       ],
       "ref": "9722d64c-b035-4424-866d-bfc3c66c4f9a",
       "rows": [
        [
         "0",
         "C:/Users/dalto/OneDrive/Pictures/Documents/Projects/Coding Projects/Game Vison/video/elite_video/CB_Ball_65.1_b_c_165.0.mp4",
         "C:/Users/dalto/OneDrive/Pictures/Documents/Projects/Coding Projects/Game Vison/video/elite_video\\0.mp4",
         "Ball, 65.1 CB"
        ],
        [
         "1",
         "C:/Users/dalto/OneDrive/Pictures/Documents/Projects/Coding Projects/Game Vison/video/elite_video/CB_Ball_65.1_b_c_173.373806.mp4",
         "C:/Users/dalto/OneDrive/Pictures/Documents/Projects/Coding Projects/Game Vison/video/elite_video\\1.mp4",
         "Ball, 65.1 CB"
        ],
        [
         "2",
         "C:/Users/dalto/OneDrive/Pictures/Documents/Projects/Coding Projects/Game Vison/video/elite_video/CB_Ball_65.1_b_c_190.12142.mp4",
         "C:/Users/dalto/OneDrive/Pictures/Documents/Projects/Coding Projects/Game Vison/video/elite_video\\2.mp4",
         "Ball, 65.1 CB"
        ],
        [
         "3",
         "C:/Users/dalto/OneDrive/Pictures/Documents/Projects/Coding Projects/Game Vison/video/elite_video/CB_Strike_68.6_b_c_165.0.mp4",
         "C:/Users/dalto/OneDrive/Pictures/Documents/Projects/Coding Projects/Game Vison/video/elite_video\\3.mp4",
         "Strike, 68.6 CB"
        ],
        [
         "4",
         "C:/Users/dalto/OneDrive/Pictures/Documents/Projects/Coding Projects/Game Vison/video/elite_video/CB_Strike_68.6_b_c_173.373806.mp4",
         "C:/Users/dalto/OneDrive/Pictures/Documents/Projects/Coding Projects/Game Vison/video/elite_video\\4.mp4",
         "Strike, 68.6 CB"
        ]
       ],
       "shape": {
        "columns": 3,
        "rows": 5
       }
      },
      "text/html": [
       "<div>\n",
       "<style scoped>\n",
       "    .dataframe tbody tr th:only-of-type {\n",
       "        vertical-align: middle;\n",
       "    }\n",
       "\n",
       "    .dataframe tbody tr th {\n",
       "        vertical-align: top;\n",
       "    }\n",
       "\n",
       "    .dataframe thead th {\n",
       "        text-align: right;\n",
       "    }\n",
       "</style>\n",
       "<table border=\"1\" class=\"dataframe\">\n",
       "  <thead>\n",
       "    <tr style=\"text-align: right;\">\n",
       "      <th></th>\n",
       "      <th>original_name</th>\n",
       "      <th>new_name</th>\n",
       "      <th>pitch_info</th>\n",
       "    </tr>\n",
       "  </thead>\n",
       "  <tbody>\n",
       "    <tr>\n",
       "      <th>0</th>\n",
       "      <td>C:/Users/dalto/OneDrive/Pictures/Documents/Pro...</td>\n",
       "      <td>C:/Users/dalto/OneDrive/Pictures/Documents/Pro...</td>\n",
       "      <td>Ball, 65.1 CB</td>\n",
       "    </tr>\n",
       "    <tr>\n",
       "      <th>1</th>\n",
       "      <td>C:/Users/dalto/OneDrive/Pictures/Documents/Pro...</td>\n",
       "      <td>C:/Users/dalto/OneDrive/Pictures/Documents/Pro...</td>\n",
       "      <td>Ball, 65.1 CB</td>\n",
       "    </tr>\n",
       "    <tr>\n",
       "      <th>2</th>\n",
       "      <td>C:/Users/dalto/OneDrive/Pictures/Documents/Pro...</td>\n",
       "      <td>C:/Users/dalto/OneDrive/Pictures/Documents/Pro...</td>\n",
       "      <td>Ball, 65.1 CB</td>\n",
       "    </tr>\n",
       "    <tr>\n",
       "      <th>3</th>\n",
       "      <td>C:/Users/dalto/OneDrive/Pictures/Documents/Pro...</td>\n",
       "      <td>C:/Users/dalto/OneDrive/Pictures/Documents/Pro...</td>\n",
       "      <td>Strike, 68.6 CB</td>\n",
       "    </tr>\n",
       "    <tr>\n",
       "      <th>4</th>\n",
       "      <td>C:/Users/dalto/OneDrive/Pictures/Documents/Pro...</td>\n",
       "      <td>C:/Users/dalto/OneDrive/Pictures/Documents/Pro...</td>\n",
       "      <td>Strike, 68.6 CB</td>\n",
       "    </tr>\n",
       "  </tbody>\n",
       "</table>\n",
       "</div>"
      ],
      "text/plain": [
       "                                       original_name  \\\n",
       "0  C:/Users/dalto/OneDrive/Pictures/Documents/Pro...   \n",
       "1  C:/Users/dalto/OneDrive/Pictures/Documents/Pro...   \n",
       "2  C:/Users/dalto/OneDrive/Pictures/Documents/Pro...   \n",
       "3  C:/Users/dalto/OneDrive/Pictures/Documents/Pro...   \n",
       "4  C:/Users/dalto/OneDrive/Pictures/Documents/Pro...   \n",
       "\n",
       "                                            new_name       pitch_info  \n",
       "0  C:/Users/dalto/OneDrive/Pictures/Documents/Pro...    Ball, 65.1 CB  \n",
       "1  C:/Users/dalto/OneDrive/Pictures/Documents/Pro...    Ball, 65.1 CB  \n",
       "2  C:/Users/dalto/OneDrive/Pictures/Documents/Pro...    Ball, 65.1 CB  \n",
       "3  C:/Users/dalto/OneDrive/Pictures/Documents/Pro...  Strike, 68.6 CB  \n",
       "4  C:/Users/dalto/OneDrive/Pictures/Documents/Pro...  Strike, 68.6 CB  "
      ]
     },
     "execution_count": 5,
     "metadata": {},
     "output_type": "execute_result"
    }
   ],
   "source": [
    "df = pd.read_csv('C:/Users/dalto/OneDrive/Pictures/Documents/Projects/Coding Projects/Game Vison/timing/elite_info/elite_names.csv')\n",
    "\n",
    "# Function to extract pitch info from the original file path\n",
    "def extract_pitch_info(path):\n",
    "    filename = os.path.basename(path)\n",
    "    match = re.match(r'([A-Z]+)_([A-Za-z]+)_(\\\\d+\\\\.\\\\d+)', filename)\n",
    "    if match:\n",
    "        pitch_type = match.group(1)\n",
    "        result = match.group(2)\n",
    "        speed = match.group(3)\n",
    "        return f\"{result}, {speed} {pitch_type}\"\n",
    "    parts = filename.split('_')\n",
    "    if len(parts) >= 3:\n",
    "        pitch_type = parts[0]\n",
    "        result = parts[1]\n",
    "        speed = parts[2]\n",
    "        return f\"{result}, {speed} {pitch_type}\"\n",
    "    return \"\"\n",
    "\n",
    "df['pitch_info'] = df['original_name'].apply(extract_pitch_info)\n",
    "df.head()"
   ]
  },
  {
   "cell_type": "code",
   "execution_count": 6,
   "id": "2747b86b",
   "metadata": {},
   "outputs": [],
   "source": [
    "df.to_csv('elite_pitchinfo.csv')"
   ]
  },
  {
   "cell_type": "code",
   "execution_count": 10,
   "id": "53e571cf",
   "metadata": {},
   "outputs": [],
   "source": [
    "video_files = []\n",
    "for root, dirs, files in os.walk('C:/Users/dalto/OneDrive/Pictures/Documents/Projects/Coding Projects/Game Vison/splits/'):\n",
    "    for file in files:\n",
    "        video_files.append(os.path.join(root, file))\n",
    "\n",
    "df = pd.DataFrame({'name': video_files})\n",
    "df.to_csv('./timings.csv')"
   ]
  },
  {
   "cell_type": "code",
   "execution_count": null,
   "id": "d88faab6",
   "metadata": {},
   "outputs": [],
   "source": [
    "df['new_name'] = df['new_name'].apply(os.path.basename)\n",
    "df['original_name'] = df['original_name'].apply(os.path.basename)\n",
    "df.head()\n",
    "df.to_csv('names_with_pitch_info.csv', index=False )"
   ]
  }
 ],
 "metadata": {
  "kernelspec": {
   "display_name": "base",
   "language": "python",
   "name": "python3"
  },
  "language_info": {
   "codemirror_mode": {
    "name": "ipython",
    "version": 3
   },
   "file_extension": ".py",
   "mimetype": "text/x-python",
   "name": "python",
   "nbconvert_exporter": "python",
   "pygments_lexer": "ipython3",
   "version": "3.12.7"
  }
 },
 "nbformat": 4,
 "nbformat_minor": 5
}
